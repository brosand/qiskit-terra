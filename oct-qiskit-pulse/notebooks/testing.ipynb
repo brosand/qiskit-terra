{
 "cells": [
  {
   "cell_type": "markdown",
   "metadata": {},
   "source": [
    "# Testing of QuTiP QOC on Qiskit using IBM backend"
   ]
  },
  {
   "cell_type": "markdown",
   "metadata": {},
   "source": [
    "Ben Rosand (brosand@gmail.com)"
   ]
  },
  {
   "cell_type": "markdown",
   "metadata": {},
   "source": [
    "### Imports"
   ]
  },
  {
   "cell_type": "code",
   "execution_count": null,
   "metadata": {
    "tags": []
   },
   "outputs": [],
   "source": [
    "from src.QOCTester import QOCTester\n",
    "from qiskit import IBMQ\n",
    "from qiskit.tools.monitor import job_monitor\n",
    "import numpy as np"
   ]
  },
  {
   "source": [
    "## Setup backend and initialize tester"
   ],
   "cell_type": "markdown",
   "metadata": {}
  },
  {
   "cell_type": "code",
   "execution_count": null,
   "metadata": {
    "tags": []
   },
   "outputs": [],
   "source": [
    "\n",
    "IBMQ.load_account()\n",
    "\n",
    "provider = IBMQ.get_provider(hub='ibm-q-internal', group='deployed', project='default')\n",
    "backend = provider.get_backend('ibmq_armonk')"
   ]
  },
  {
   "cell_type": "code",
   "execution_count": null,
   "metadata": {
    "tags": []
   },
   "outputs": [],
   "source": [
    "target_name = 'XGate'\n",
    "subsystem_list = [0]\n",
    "\n",
    "config = backend.configuration()\n",
    "\n",
    "tester = QOCTester(config, subsystem_list, p_type='LIN', two_level=True)"
   ]
  },
  {
   "source": [
    "### Initialize the target unitary evolution, could be 'x', 'XGate', 'sigmax', 'h', 'hadamard', or 'cnot'"
   ],
   "cell_type": "markdown",
   "metadata": {}
  },
  {
   "cell_type": "code",
   "execution_count": null,
   "metadata": {
    "tags": []
   },
   "outputs": [],
   "source": [
    "# tester.make_two_level()\n",
    "tester.init_unitaries(target_name)\n"
   ]
  },
  {
   "source": [
    " ### Initialize the time steps to cycle through for the tester"
   ],
   "cell_type": "markdown",
   "metadata": {}
  },
  {
   "cell_type": "code",
   "execution_count": null,
   "metadata": {
    "tags": []
   },
   "outputs": [],
   "source": [
    "n_ts_list=np.arange(64,320,64)\n",
    "tester.time_init(n_ts_list=n_ts_list)"
   ]
  },
  {
   "source": [
    "## Run the optimizer and plot the results"
   ],
   "cell_type": "markdown",
   "metadata": {}
  },
  {
   "cell_type": "code",
   "execution_count": null,
   "metadata": {
    "tags": []
   },
   "outputs": [],
   "source": [
    "optim = tester.create_pulse_optimizer()"
   ]
  },
  {
   "cell_type": "code",
   "execution_count": null,
   "metadata": {
    "tags": []
   },
   "outputs": [],
   "source": [
    "results = tester.tester_run_optimizer(optim)"
   ]
  },
  {
   "cell_type": "code",
   "execution_count": null,
   "metadata": {
    "tags": []
   },
   "outputs": [],
   "source": [
    "tester.plot_all_results(results)"
   ]
  },
  {
   "cell_type": "code",
   "execution_count": null,
   "metadata": {
    "tags": []
   },
   "outputs": [],
   "source": [
    "# Generate qiskit programs from the resulting amp sequences\n",
    "programs = tester.gen_qiskit_progs(results, backend)"
   ]
  },
  {
   "cell_type": "code",
   "execution_count": null,
   "metadata": {
    "tags": []
   },
   "outputs": [],
   "source": [
    "# Run the programs on a qiskit backend\n",
    "jobs = tester.run_qiskit_programs(programs,backend)"
   ]
  },
  {
   "cell_type": "code",
   "execution_count": null,
   "metadata": {
    "tags": []
   },
   "outputs": [],
   "source": [
    "job_monitor(jobs[-1])"
   ]
  },
  {
   "cell_type": "code",
   "execution_count": null,
   "metadata": {
    "tags": []
   },
   "outputs": [],
   "source": [
    "# Create dictionary of qubit 0 excitation\n",
    "acc = tester.get_acc(jobs)"
   ]
  },
  {
   "cell_type": "code",
   "execution_count": null,
   "metadata": {
    "tags": []
   },
   "outputs": [],
   "source": [
    "# Save the accuracy results to a csv file\n",
    "tester.write_acc(acc, 'results.csv')"
   ]
  },
  {
   "cell_type": "code",
   "execution_count": null,
   "metadata": {},
   "outputs": [],
   "source": [
    "# If you want to examine a specific schedule here is how to do it\n",
    "from src.testing_helper import generate_schedule\n",
    "from qiskit.pulse import DriveChannel\n",
    "sched = generate_schedule(results[0].final_amps, backend, draw_progs=True)\n",
    "sched.draw(plot_range=[0,200], channels=[DriveChannel(0)])"
   ]
  }
 ],
 "metadata": {
  "kernelspec": {
   "display_name": "Python 3.8.5 64-bit ('qoc': conda)",
   "language": "python",
   "name": "python_defaultSpec_1600391570489"
  },
  "language_info": {
   "codemirror_mode": {
    "name": "ipython",
    "version": 3
   },
   "file_extension": ".py",
   "mimetype": "text/x-python",
   "name": "python",
   "nbconvert_exporter": "python",
   "pygments_lexer": "ipython3",
   "version": "3.8.5-final"
  }
 },
 "nbformat": 4,
 "nbformat_minor": 0
}