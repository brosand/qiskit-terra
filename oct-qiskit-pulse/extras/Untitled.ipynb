{
 "cells": [
  {
   "cell_type": "code",
   "execution_count": null,
   "metadata": {
    "collapsed": false
   },
   "outputs": [],
   "source": []
  }
 ],
 "metadata": {
  "kernelspec": {
   "argv": [
    "/Users/benrosand/anaconda3/envs/qutip/bin/python",
    "-m",
    "ipykernel_launcher",
    "-f",
    "{connection_file}"
   ],
   "display_name": "Python 3.8.3 64-bit ('qutip': conda)",
   "env": {
    "AMD_ENTRYPOINT": "vs/workbench/services/extensions/node/extensionHostProcess",
    "APPLICATION_INSIGHTS_NO_DIAGNOSTIC_CHANNEL": "true",
    "COMMAND_MODE": "unix2003",
    "CONDA_CHANGEPS1": "no",
    "CONDA_DEFAULT_ENV": "qutip",
    "CONDA_EXE": "/Users/benrosand/anaconda3/bin/conda",
    "CONDA_PREFIX": "/Users/benrosand/anaconda3/envs/qutip",
    "CONDA_PREFIX_1": "/Users/benrosand/anaconda3",
    "CONDA_PROMPT_MODIFIER": "",
    "CONDA_PYTHON_EXE": "/Users/benrosand/anaconda3/bin/python",
    "CONDA_SHLVL": "2",
    "ELECTRON_RUN_AS_NODE": "1",
    "HOME": "/Users/benrosand",
    "LC_CTYPE": "UTF-8",
    "LESS": "-R",
    "LOGNAME": "benrosand",
    "LSCOLORS": "Gxfxcxdxbxegedabagacad",
    "LaunchInstanceID": "1ACC6967-BDA2-4FEF-9767-38995BAF2721",
    "ORIGINAL_XDG_CURRENT_DESKTOP": "undefined",
    "PAGER": "less",
    "PATH": "/Users/benrosand/anaconda3/envs/qutip/bin:/Users/benrosand/anaconda3/condabin:/usr/local/bin:/usr/bin:/bin:/usr/sbin:/sbin",
    "PIPE_LOGGING": "true",
    "PROMPT_EOL_MARK": "",
    "PWD": "/",
    "PYTHONIOENCODING": "utf-8",
    "PYTHONUNBUFFERED": "1",
    "SECURITYSESSIONID": "186a6",
    "SHELL": "/bin/zsh",
    "SHLVL": "1",
    "SSH_AUTH_SOCK": "/private/tmp/com.apple.launchd.1fIV5ceXkV/Listeners",
    "TMPDIR": "/var/folders/q1/zy0sqv013txd_hvbgwnv_2k80000gn/T/",
    "USER": "benrosand",
    "VERBOSE_LOGGING": "true",
    "VSCODE_HANDLES_UNCAUGHT_ERRORS": "true",
    "VSCODE_IPC_HOOK": "/Users/benrosand/Library/Application Support/Code/1.46.1-main.sock",
    "VSCODE_IPC_HOOK_EXTHOST": "/var/folders/q1/zy0sqv013txd_hvbgwnv_2k80000gn/T/vscode-ipc-5b879769-90c7-458d-976e-88b6187c7ce0.sock",
    "VSCODE_LOGS": "/Users/benrosand/Library/Application Support/Code/logs/20200623T145835",
    "VSCODE_LOG_STACK": "false",
    "VSCODE_NLS_CONFIG": "{\"locale\":\"en-us\",\"availableLanguages\":{},\"_languagePackSupport\":true}",
    "VSCODE_NODE_CACHED_DATA_DIR": "/Users/benrosand/Library/Application Support/Code/CachedData/cd9ea6488829f560dc949a8b2fb789f3cdc05f5d",
    "VSCODE_PID": "590",
    "XPC_FLAGS": "0x0",
    "XPC_SERVICE_NAME": "0",
    "ZSH": "/Users/benrosand/.oh-my-zsh",
    "_": "/Users/benrosand/anaconda3/envs/qutip/bin/python",
    "_CE_CONDA": "",
    "_CE_M": "",
    "__CF_USER_TEXT_ENCODING": "0x1F5:0x0:0x0"
   },
   "interrupt_mode": "signal",
   "language": "python",
   "metadata": {
    "interpreter": {
     "architecture": 3,
     "companyDisplayName": "Anaconda, Inc.",
     "displayName": "Python 3.8.3 64-bit ('qutip': conda)",
     "envName": "qutip",
     "envPath": "/Users/benrosand/anaconda3/envs/qutip",
     "fileHash": "3a5ebbe37d08671107d6aa2cefbcfb7e12fe8ae12bf4719728815eb3f6bc18e5fb7fae5acd22457dbeda09d367597b1c256dfab246e77ac3849a79a39558bb34",
     "path": "/Users/benrosand/anaconda3/envs/qutip/bin/python",
     "sysPrefix": "/Users/benrosand/anaconda3/envs/qutip",
     "type": "Conda",
     "version": {
      "build": null,
      "loose": false,
      "major": 3,
      "minor": 8,
      "options": {
       "includePrerelease": false,
       "loose": false
      },
      "patch": 3,
      "prerelease": [
       "final"
      ],
      "raw": "3.8.3-final",
      "version": "3.8.3-final"
     }
    }
   },
   "name": "python38364bitqutipcondaf2e7297c9f3141ebb90564e6d73c5756"
  },
  "name": "Untitled.ipynb"
 },
 "nbformat": 4,
 "nbformat_minor": 4
}
